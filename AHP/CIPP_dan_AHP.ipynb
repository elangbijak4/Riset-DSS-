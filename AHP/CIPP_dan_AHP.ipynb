{
  "nbformat": 4,
  "nbformat_minor": 0,
  "metadata": {
    "colab": {
      "provenance": [],
      "authorship_tag": "ABX9TyN/9ZbZiEsHigiMEAYKYIu8",
      "include_colab_link": true
    },
    "kernelspec": {
      "name": "python3",
      "display_name": "Python 3"
    },
    "language_info": {
      "name": "python"
    }
  },
  "cells": [
    {
      "cell_type": "markdown",
      "metadata": {
        "id": "view-in-github",
        "colab_type": "text"
      },
      "source": [
        "<a href=\"https://colab.research.google.com/github/elangbijak4/Riset-DSS-/blob/main/AHP/CIPP_dan_AHP.ipynb\" target=\"_parent\"><img src=\"https://colab.research.google.com/assets/colab-badge.svg\" alt=\"Open In Colab\"/></a>"
      ]
    },
    {
      "cell_type": "code",
      "execution_count": 1,
      "metadata": {
        "colab": {
          "base_uri": "https://localhost:8080/"
        },
        "id": "1fUWKNSQH6L6",
        "outputId": "236abc4b-c81f-42a8-a4f4-05024a96792a"
      },
      "outputs": [
        {
          "output_type": "stream",
          "name": "stdout",
          "text": [
            "Requirement already satisfied: numpy in /usr/local/lib/python3.11/dist-packages (1.26.4)\n",
            "Requirement already satisfied: pandas in /usr/local/lib/python3.11/dist-packages (2.2.2)\n",
            "Requirement already satisfied: python-dateutil>=2.8.2 in /usr/local/lib/python3.11/dist-packages (from pandas) (2.8.2)\n",
            "Requirement already satisfied: pytz>=2020.1 in /usr/local/lib/python3.11/dist-packages (from pandas) (2024.2)\n",
            "Requirement already satisfied: tzdata>=2022.7 in /usr/local/lib/python3.11/dist-packages (from pandas) (2025.1)\n",
            "Requirement already satisfied: six>=1.5 in /usr/local/lib/python3.11/dist-packages (from python-dateutil>=2.8.2->pandas) (1.17.0)\n",
            "Bobot AHP: [0.48240658 0.2717977  0.15750839 0.08828734]\n",
            "Skor Akhir Evaluasi (tanpa entropy weight): 77.94488863773432\n"
          ]
        }
      ],
      "source": [
        "# Install library yang dibutuhkan\n",
        "!pip install numpy pandas\n",
        "\n",
        "# Import library\n",
        "import numpy as np\n",
        "import pandas as pd\n",
        "\n",
        "# Langkah 1: Data evaluasi CIPP\n",
        "data = {\n",
        "    \"Context\": [80, 85, 82, 78],\n",
        "    \"Input\": [70, 68, 75, 72],\n",
        "    \"Process\": [75, 78, 74, 73],\n",
        "    \"Product\": [85, 88, 84, 86],\n",
        "}\n",
        "\n",
        "df = pd.DataFrame(data)\n",
        "\n",
        "# Langkah 2: Matriks perbandingan AHP (subyektif)\n",
        "# Matriks harus bersifat konsisten, dengan bobot pairwise comparison\n",
        "ahp_matrix = np.array([\n",
        "    [1,   2,   3,   5],  # Context\n",
        "    [1/2, 1,   2,   3],  # Input\n",
        "    [1/3, 1/2, 1,   2],  # Process\n",
        "    [1/5, 1/3, 1/2, 1]   # Product\n",
        "])\n",
        "\n",
        "# Normalisasi matriks AHP\n",
        "ahp_sum = ahp_matrix.sum(axis=0)\n",
        "ahp_normalized = ahp_matrix / ahp_sum\n",
        "\n",
        "# Hitung bobot AHP\n",
        "ahp_weights = ahp_normalized.mean(axis=1)\n",
        "ahp_weights /= ahp_weights.sum()  # Normalisasi agar jumlah bobot = 1\n",
        "\n",
        "# Tampilkan bobot AHP\n",
        "print(\"Bobot AHP:\", ahp_weights)\n",
        "\n",
        "# Langkah 3: Hitung skor akhir evaluasi\n",
        "# Bobot AHP diterapkan pada rata-rata skor dimensi\n",
        "average_scores = df.mean(axis=0).values  # Rata-rata skor per dimensi\n",
        "final_score = np.dot(ahp_weights, average_scores)\n",
        "\n",
        "print(\"Skor Akhir Evaluasi (tanpa entropy weight):\", final_score)"
      ]
    }
  ]
}
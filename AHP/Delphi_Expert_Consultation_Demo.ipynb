{
  "nbformat": 4,
  "nbformat_minor": 0,
  "metadata": {
    "colab": {
      "provenance": [],
      "authorship_tag": "ABX9TyMfTTZkIfBSbY3hbvkSRfPz",
      "include_colab_link": true
    },
    "kernelspec": {
      "name": "python3",
      "display_name": "Python 3"
    },
    "language_info": {
      "name": "python"
    }
  },
  "cells": [
    {
      "cell_type": "markdown",
      "metadata": {
        "id": "view-in-github",
        "colab_type": "text"
      },
      "source": [
        "<a href=\"https://colab.research.google.com/github/elangbijak4/Riset-DSS-/blob/main/AHP/Delphi_Expert_Consultation_Demo.ipynb\" target=\"_parent\"><img src=\"https://colab.research.google.com/assets/colab-badge.svg\" alt=\"Open In Colab\"/></a>"
      ]
    },
    {
      "cell_type": "code",
      "execution_count": 1,
      "metadata": {
        "colab": {
          "base_uri": "https://localhost:8080/"
        },
        "id": "jhqh7SRNTsdw",
        "outputId": "8dc4f81d-4327-427e-efc3-8e152d5d9f4a"
      },
      "outputs": [
        {
          "output_type": "execute_result",
          "data": {
            "text/plain": [
              "(Facilities    7.6\n",
              " IT            7.4\n",
              " Experience    7.6\n",
              " dtype: float64,\n",
              " Facilities    7.2\n",
              " IT            7.8\n",
              " Experience    8.4\n",
              " dtype: float64)"
            ]
          },
          "metadata": {},
          "execution_count": 1
        }
      ],
      "source": [
        "import numpy as np\n",
        "import pandas as pd\n",
        "\n",
        "# Simulasi Data Ahli - Bobot untuk 3 faktor (Fasilitas Pengajaran, Teknologi Informasi, Pengalaman Pengajar)\n",
        "# Putaran pertama: Ahli memberikan nilai 1-10 untuk setiap faktor\n",
        "expert_round_1 = {\n",
        "    'Expert 1': [8, 7, 9],\n",
        "    'Expert 2': [6, 8, 7],\n",
        "    'Expert 3': [9, 6, 8],\n",
        "    'Expert 4': [7, 9, 8],\n",
        "    'Expert 5': [8, 7, 6]\n",
        "}\n",
        "\n",
        "# Menyusun data dalam format DataFrame\n",
        "df_round_1 = pd.DataFrame(expert_round_1, index=[\"Facilities\", \"IT\", \"Experience\"])\n",
        "df_round_1\n",
        "\n",
        "# Putaran kedua: Ahli memberikan nilai setelah melihat konsensus dari putaran pertama\n",
        "# Misalnya, hasil konsensus menunjukkan bahwa \"IT\" dan \"Experience\" memiliki bobot lebih besar\n",
        "expert_round_2 = {\n",
        "    'Expert 1': [7, 8, 9],\n",
        "    'Expert 2': [6, 9, 7],\n",
        "    'Expert 3': [8, 7, 9],\n",
        "    'Expert 4': [7, 8, 9],\n",
        "    'Expert 5': [8, 7, 8]\n",
        "}\n",
        "\n",
        "df_round_2 = pd.DataFrame(expert_round_2, index=[\"Facilities\", \"IT\", \"Experience\"])\n",
        "df_round_2\n",
        "\n",
        "# Menghitung rata-rata bobot per faktor untuk setiap putaran\n",
        "avg_round_1 = df_round_1.mean(axis=1)\n",
        "avg_round_2 = df_round_2.mean(axis=1)\n",
        "\n",
        "# Menampilkan hasil rata-rata bobot untuk kedua putaran\n",
        "avg_round_1, avg_round_2"
      ]
    }
  ]
}